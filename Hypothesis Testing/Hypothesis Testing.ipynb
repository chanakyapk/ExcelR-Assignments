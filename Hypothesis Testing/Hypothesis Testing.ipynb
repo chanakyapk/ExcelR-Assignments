{
 "cells": [
  {
   "cell_type": "markdown",
   "id": "e95b4117",
   "metadata": {},
   "source": [
    "# Importing Libraries"
   ]
  },
  {
   "cell_type": "code",
   "execution_count": 1,
   "id": "da5f96eb",
   "metadata": {},
   "outputs": [],
   "source": [
    "import pandas as pd\n",
    "import numpy as np\n",
    "import matplotlib.pyplot as plt\n",
    "import seaborn as sns\n",
    "import scipy.stats as stats\n",
    "import statsmodels.api as sm\n",
    "import warnings\n",
    "warnings.filterwarnings(\"ignore\")\n",
    "from PIL import ImageGrab"
   ]
  },
  {
   "cell_type": "markdown",
   "id": "8407e140",
   "metadata": {},
   "source": [
    "# <span style=\"color:Red\">Answer 1</span> "
   ]
  },
  {
   "cell_type": "markdown",
   "id": "3c8b46b9",
   "metadata": {},
   "source": [
    "## We are going to conduct a 2 tailed test on 2 Independent samples with Numerical Data\n",
    "\n",
    "### We need to check whether the mean of both samples are different and is there any significance difference between the two samples?"
   ]
  },
  {
   "cell_type": "markdown",
   "id": "9c5c6409",
   "metadata": {},
   "source": [
    "# Step 1\n",
    "\n",
    "#### Make two Hypothesis one contradicting to other Null Hypothesis is want we want to prove\n",
    "\n",
    "- Null Hypothesis: μ1 = μ2\n",
    "- Alternative Hypthosis: μ != μ2"
   ]
  },
  {
   "cell_type": "markdown",
   "id": "07e510d7",
   "metadata": {},
   "source": [
    "# Step 2\n",
    "#### Decide a cut-off value\n",
    "- Significance 5%\n",
    "- alpha = 0.05\n",
    "As it is a two-tailed test\n",
    "- alpha/2 = 0.025"
   ]
  },
  {
   "cell_type": "markdown",
   "id": "1ef390ea",
   "metadata": {},
   "source": [
    "## Step 3\n",
    "#### Collect evidence \n",
    "#### Importing Files"
   ]
  },
  {
   "cell_type": "code",
   "execution_count": 2,
   "id": "0695c296",
   "metadata": {},
   "outputs": [],
   "source": [
    "cutlets=pd.read_csv(\"cutlets.csv\")"
   ]
  },
  {
   "cell_type": "code",
   "execution_count": 3,
   "id": "1a3c90e3",
   "metadata": {},
   "outputs": [
    {
     "data": {
      "text/html": [
       "<div>\n",
       "<style scoped>\n",
       "    .dataframe tbody tr th:only-of-type {\n",
       "        vertical-align: middle;\n",
       "    }\n",
       "\n",
       "    .dataframe tbody tr th {\n",
       "        vertical-align: top;\n",
       "    }\n",
       "\n",
       "    .dataframe thead th {\n",
       "        text-align: right;\n",
       "    }\n",
       "</style>\n",
       "<table border=\"1\" class=\"dataframe\">\n",
       "  <thead>\n",
       "    <tr style=\"text-align: right;\">\n",
       "      <th></th>\n",
       "      <th>Unit A</th>\n",
       "      <th>Unit B</th>\n",
       "    </tr>\n",
       "  </thead>\n",
       "  <tbody>\n",
       "    <tr>\n",
       "      <th>0</th>\n",
       "      <td>6.8090</td>\n",
       "      <td>6.7703</td>\n",
       "    </tr>\n",
       "    <tr>\n",
       "      <th>1</th>\n",
       "      <td>6.4376</td>\n",
       "      <td>7.5093</td>\n",
       "    </tr>\n",
       "    <tr>\n",
       "      <th>2</th>\n",
       "      <td>6.9157</td>\n",
       "      <td>6.7300</td>\n",
       "    </tr>\n",
       "    <tr>\n",
       "      <th>3</th>\n",
       "      <td>7.3012</td>\n",
       "      <td>6.7878</td>\n",
       "    </tr>\n",
       "    <tr>\n",
       "      <th>4</th>\n",
       "      <td>7.4488</td>\n",
       "      <td>7.1522</td>\n",
       "    </tr>\n",
       "  </tbody>\n",
       "</table>\n",
       "</div>"
      ],
      "text/plain": [
       "   Unit A  Unit B\n",
       "0  6.8090  6.7703\n",
       "1  6.4376  7.5093\n",
       "2  6.9157  6.7300\n",
       "3  7.3012  6.7878\n",
       "4  7.4488  7.1522"
      ]
     },
     "execution_count": 3,
     "metadata": {},
     "output_type": "execute_result"
    }
   ],
   "source": [
    "cutlets.head()"
   ]
  },
  {
   "cell_type": "markdown",
   "id": "23024d7c",
   "metadata": {},
   "source": [
    "# Descriptive Statistics"
   ]
  },
  {
   "cell_type": "code",
   "execution_count": 5,
   "id": "411b94af",
   "metadata": {},
   "outputs": [
    {
     "data": {
      "text/html": [
       "<div>\n",
       "<style scoped>\n",
       "    .dataframe tbody tr th:only-of-type {\n",
       "        vertical-align: middle;\n",
       "    }\n",
       "\n",
       "    .dataframe tbody tr th {\n",
       "        vertical-align: top;\n",
       "    }\n",
       "\n",
       "    .dataframe thead th {\n",
       "        text-align: right;\n",
       "    }\n",
       "</style>\n",
       "<table border=\"1\" class=\"dataframe\">\n",
       "  <thead>\n",
       "    <tr style=\"text-align: right;\">\n",
       "      <th></th>\n",
       "      <th>Unit A</th>\n",
       "      <th>Unit B</th>\n",
       "    </tr>\n",
       "  </thead>\n",
       "  <tbody>\n",
       "    <tr>\n",
       "      <th>count</th>\n",
       "      <td>35.000000</td>\n",
       "      <td>35.000000</td>\n",
       "    </tr>\n",
       "    <tr>\n",
       "      <th>mean</th>\n",
       "      <td>7.019091</td>\n",
       "      <td>6.964297</td>\n",
       "    </tr>\n",
       "    <tr>\n",
       "      <th>std</th>\n",
       "      <td>0.288408</td>\n",
       "      <td>0.343401</td>\n",
       "    </tr>\n",
       "    <tr>\n",
       "      <th>min</th>\n",
       "      <td>6.437600</td>\n",
       "      <td>6.038000</td>\n",
       "    </tr>\n",
       "    <tr>\n",
       "      <th>25%</th>\n",
       "      <td>6.831500</td>\n",
       "      <td>6.753600</td>\n",
       "    </tr>\n",
       "    <tr>\n",
       "      <th>50%</th>\n",
       "      <td>6.943800</td>\n",
       "      <td>6.939900</td>\n",
       "    </tr>\n",
       "    <tr>\n",
       "      <th>75%</th>\n",
       "      <td>7.280550</td>\n",
       "      <td>7.195000</td>\n",
       "    </tr>\n",
       "    <tr>\n",
       "      <th>max</th>\n",
       "      <td>7.516900</td>\n",
       "      <td>7.545900</td>\n",
       "    </tr>\n",
       "  </tbody>\n",
       "</table>\n",
       "</div>"
      ],
      "text/plain": [
       "          Unit A     Unit B\n",
       "count  35.000000  35.000000\n",
       "mean    7.019091   6.964297\n",
       "std     0.288408   0.343401\n",
       "min     6.437600   6.038000\n",
       "25%     6.831500   6.753600\n",
       "50%     6.943800   6.939900\n",
       "75%     7.280550   7.195000\n",
       "max     7.516900   7.545900"
      ]
     },
     "execution_count": 5,
     "metadata": {},
     "output_type": "execute_result"
    }
   ],
   "source": [
    "cutlets.describe()"
   ]
  },
  {
   "cell_type": "markdown",
   "id": "c8cfb4eb",
   "metadata": {},
   "source": [
    "# Checking for null Values"
   ]
  },
  {
   "cell_type": "code",
   "execution_count": 7,
   "id": "163a2907",
   "metadata": {},
   "outputs": [
    {
     "data": {
      "text/plain": [
       "Unit A    0\n",
       "Unit B    0\n",
       "dtype: int64"
      ]
     },
     "execution_count": 7,
     "metadata": {},
     "output_type": "execute_result"
    }
   ],
   "source": [
    "cutlets.isnull().sum()"
   ]
  },
  {
   "cell_type": "markdown",
   "id": "7b4c9bcc",
   "metadata": {},
   "source": [
    "# Plotting Data"
   ]
  },
  {
   "cell_type": "code",
   "execution_count": 8,
   "id": "1d7be88f",
   "metadata": {},
   "outputs": [
    {
     "data": {
      "image/png": "[encoded data removed]",
      "text/plain": [
       "<Figure size 648x432 with 2 Axes>"
      ]
     },
     "metadata": {
      "needs_background": "light"
     },
     "output_type": "display_data"
    }
   ],
   "source": [
    "plt.subplots(figsize = (9,6))\n",
    "plt.subplot(121)\n",
    "plt.boxplot(cutlets['Unit A'])\n",
    "plt.title('Unit A')\n",
    "plt.subplot(122)\n",
    "plt.boxplot(cutlets['Unit B'])\n",
    "plt.title('Unit B')\n",
    "plt.show()"
   ]
  },
  {
   "cell_type": "code",
   "execution_count": 9,
   "id": "8c690e46",
   "metadata": {},
   "outputs": [
    {
     "data": {
      "image/png": "[encoded data removed]",
      "text/plain": [
       "<Figure size 648x432 with 2 Axes>"
      ]
     },
     "metadata": {
      "needs_background": "light"
     },
     "output_type": "display_data"
    }
   ],
   "source": [
    "plt.subplots(figsize = (9,6))\n",
    "plt.subplot(121)\n",
    "plt.hist(cutlets['Unit A'], bins = 15)\n",
    "plt.title('Unit A')\n",
    "plt.subplot(122)\n",
    "plt.hist(cutlets['Unit B'], bins = 15)\n",
    "plt.title('Unit B')\n",
    "plt.show()"
   ]
  },
  {
   "cell_type": "code",
   "execution_count": 10,
   "id": "89e55262",
   "metadata": {},
   "outputs": [
    {
     "data": {
      "text/plain": [
       "<matplotlib.legend.Legend at 0x228f1fe4610>"
      ]
     },
     "execution_count": 10,
     "metadata": {},
     "output_type": "execute_result"
    },
    {
     "data": {
      "image/png": "[encoded data removed]",
      "text/plain": [
       "<Figure size 576x432 with 1 Axes>"
      ]
     },
     "metadata": {
      "needs_background": "light"
     },
     "output_type": "display_data"
    }
   ],
   "source": [
    "plt.figure(figsize = (8,6))\n",
    "labels = ['Unit A', 'Unit B']\n",
    "sns.distplot(cutlets['Unit A'], kde = True)\n",
    "sns.distplot(cutlets['Unit B'],hist = True)\n",
    "plt.legend(labels)"
   ]
  },
  {
   "cell_type": "markdown",
   "id": "b3111d67",
   "metadata": {},
   "source": [
    "## Plotting Q-Q plot to check whether the distribution follows normal distribution or not"
   ]
  },
  {
   "cell_type": "code",
   "execution_count": 11,
   "id": "2c9ad904",
   "metadata": {},
   "outputs": [
    {
     "data": {
      "image/png": "[encoded data removed]",
      "text/plain": [
       "<Figure size 432x288 with 1 Axes>"
      ]
     },
     "metadata": {
      "needs_background": "light"
     },
     "output_type": "display_data"
    },
    {
     "data": {
      "image/png": "[encoded data removed]",
      "text/plain": [
       "<Figure size 432x288 with 1 Axes>"
      ]
     },
     "metadata": {
      "needs_background": "light"
     },
     "output_type": "display_data"
    }
   ],
   "source": [
    "sm.qqplot(cutlets[\"Unit A\"], line = 'q')\n",
    "plt.title('Unit A')\n",
    "sm.qqplot(cutlets[\"Unit B\"], line = 'q')\n",
    "plt.title('Unit B')\n",
    "plt.show()"
   ]
  },
  {
   "cell_type": "markdown",
   "id": "9ba1c84c",
   "metadata": {},
   "source": [
    "# Step 4"
   ]
  },
  {
   "cell_type": "markdown",
   "id": "c3c23b19",
   "metadata": {},
   "source": [
    "#### Compare Evidences with Hypothesis using t-statistics"
   ]
  },
  {
   "cell_type": "code",
   "execution_count": 12,
   "id": "7da2cc40",
   "metadata": {},
   "outputs": [
    {
     "name": "stdout",
     "output_type": "stream",
     "text": [
      "p_value= 0.4722394724599501\n"
     ]
    }
   ],
   "source": [
    "statistic , p_value = stats.ttest_ind(cutlets['Unit A'],cutlets['Unit B'], alternative = 'two-sided')\n",
    "print('p_value=',p_value)"
   ]
  },
  {
   "cell_type": "code",
   "execution_count": 13,
   "id": "94c4c57f",
   "metadata": {},
   "outputs": [
    {
     "name": "stdout",
     "output_type": "stream",
     "text": [
      "Significnace=0.025, p=0.472\n",
      "We fail to reject Null hypothesis\n"
     ]
    }
   ],
   "source": [
    "alpha = 0.025\n",
    "print('Significnace=%.3f, p=%.3f' % (alpha, p_value))\n",
    "if p_value <= alpha:\n",
    "    print('We reject Null Hypothesis there is a significance difference between two Units A and B')\n",
    "else:\n",
    "    print('We fail to reject Null hypothesis')"
   ]
  },
  {
   "cell_type": "markdown",
   "id": "5c4ce36e",
   "metadata": {},
   "source": [
    "### Hence, We fail to reject Null Hypothesis because of lack of evidence, there is no significant difference between the two samples "
   ]
  },
  {
   "cell_type": "markdown",
   "id": "df0b8952",
   "metadata": {},
   "source": [
    "# <span style=\"color:Red\">Answer 2</span> "
   ]
  },
  {
   "cell_type": "markdown",
   "id": "aced08a7",
   "metadata": {},
   "source": [
    "### We are going to conduct a ANOVA Test on 4 Independent samples with Numerical Data\n",
    "### We need to check whether the mean of any of these samples are different or the same?"
   ]
  },
  {
   "cell_type": "markdown",
   "id": "844defdc",
   "metadata": {},
   "source": [
    "# Step 1\n",
    "### Make two Hypothesis one contradicting to other\n",
    "### Null Hypothesis is want we want to prove\n",
    "- Null Hypothesis: u1=u2=u3=u4\n",
    "- Alternative Hypthosis: Atleast One of them is Differente"
   ]
  },
  {
   "cell_type": "markdown",
   "id": "a4d9d99c",
   "metadata": {},
   "source": [
    "# Step 2\n",
    "### Decide a cut-off value\n",
    "- Significance 5%\n",
    "- alpha = 0.05"
   ]
  },
  {
   "cell_type": "markdown",
   "id": "705ef324",
   "metadata": {},
   "source": [
    "# Step 3\n",
    "### Collect evidence\n",
    "### Importing Files"
   ]
  },
  {
   "cell_type": "code",
   "execution_count": 19,
   "id": "800b2307",
   "metadata": {},
   "outputs": [
    {
     "data": {
      "text/html": [
       "<div>\n",
       "<style scoped>\n",
       "    .dataframe tbody tr th:only-of-type {\n",
       "        vertical-align: middle;\n",
       "    }\n",
       "\n",
       "    .dataframe tbody tr th {\n",
       "        vertical-align: top;\n",
       "    }\n",
       "\n",
       "    .dataframe thead th {\n",
       "        text-align: right;\n",
       "    }\n",
       "</style>\n",
       "<table border=\"1\" class=\"dataframe\">\n",
       "  <thead>\n",
       "    <tr style=\"text-align: right;\">\n",
       "      <th></th>\n",
       "      <th>Laboratory 1</th>\n",
       "      <th>Laboratory 2</th>\n",
       "      <th>Laboratory 3</th>\n",
       "      <th>Laboratory 4</th>\n",
       "    </tr>\n",
       "  </thead>\n",
       "  <tbody>\n",
       "    <tr>\n",
       "      <th>0</th>\n",
       "      <td>185.35</td>\n",
       "      <td>165.53</td>\n",
       "      <td>176.70</td>\n",
       "      <td>166.13</td>\n",
       "    </tr>\n",
       "    <tr>\n",
       "      <th>1</th>\n",
       "      <td>170.49</td>\n",
       "      <td>185.91</td>\n",
       "      <td>198.45</td>\n",
       "      <td>160.79</td>\n",
       "    </tr>\n",
       "    <tr>\n",
       "      <th>2</th>\n",
       "      <td>192.77</td>\n",
       "      <td>194.92</td>\n",
       "      <td>201.23</td>\n",
       "      <td>185.18</td>\n",
       "    </tr>\n",
       "    <tr>\n",
       "      <th>3</th>\n",
       "      <td>177.33</td>\n",
       "      <td>183.00</td>\n",
       "      <td>199.61</td>\n",
       "      <td>176.42</td>\n",
       "    </tr>\n",
       "    <tr>\n",
       "      <th>4</th>\n",
       "      <td>193.41</td>\n",
       "      <td>169.57</td>\n",
       "      <td>204.63</td>\n",
       "      <td>152.60</td>\n",
       "    </tr>\n",
       "  </tbody>\n",
       "</table>\n",
       "</div>"
      ],
      "text/plain": [
       "   Laboratory 1  Laboratory 2  Laboratory 3  Laboratory 4\n",
       "0        185.35        165.53        176.70        166.13\n",
       "1        170.49        185.91        198.45        160.79\n",
       "2        192.77        194.92        201.23        185.18\n",
       "3        177.33        183.00        199.61        176.42\n",
       "4        193.41        169.57        204.63        152.60"
      ]
     },
     "execution_count": 19,
     "metadata": {},
     "output_type": "execute_result"
    }
   ],
   "source": [
    "labtat = pd.read_csv(\"LabTAT.csv\")\n",
    "labtat.head()"
   ]
  },
  {
   "cell_type": "markdown",
   "id": "54ab30dc",
   "metadata": {},
   "source": [
    "## Applying Descriptive Statistics"
   ]
  },
  {
   "cell_type": "code",
   "execution_count": 22,
   "id": "7f33e068",
   "metadata": {},
   "outputs": [
    {
     "data": {
      "text/html": [
       "<div>\n",
       "<style scoped>\n",
       "    .dataframe tbody tr th:only-of-type {\n",
       "        vertical-align: middle;\n",
       "    }\n",
       "\n",
       "    .dataframe tbody tr th {\n",
       "        vertical-align: top;\n",
       "    }\n",
       "\n",
       "    .dataframe thead th {\n",
       "        text-align: right;\n",
       "    }\n",
       "</style>\n",
       "<table border=\"1\" class=\"dataframe\">\n",
       "  <thead>\n",
       "    <tr style=\"text-align: right;\">\n",
       "      <th></th>\n",
       "      <th>Laboratory 1</th>\n",
       "      <th>Laboratory 2</th>\n",
       "      <th>Laboratory 3</th>\n",
       "      <th>Laboratory 4</th>\n",
       "    </tr>\n",
       "  </thead>\n",
       "  <tbody>\n",
       "    <tr>\n",
       "      <th>count</th>\n",
       "      <td>120.000000</td>\n",
       "      <td>120.000000</td>\n",
       "      <td>120.000000</td>\n",
       "      <td>120.00000</td>\n",
       "    </tr>\n",
       "    <tr>\n",
       "      <th>mean</th>\n",
       "      <td>178.361583</td>\n",
       "      <td>178.902917</td>\n",
       "      <td>199.913250</td>\n",
       "      <td>163.68275</td>\n",
       "    </tr>\n",
       "    <tr>\n",
       "      <th>std</th>\n",
       "      <td>13.173594</td>\n",
       "      <td>14.957114</td>\n",
       "      <td>16.539033</td>\n",
       "      <td>15.08508</td>\n",
       "    </tr>\n",
       "    <tr>\n",
       "      <th>min</th>\n",
       "      <td>138.300000</td>\n",
       "      <td>140.550000</td>\n",
       "      <td>159.690000</td>\n",
       "      <td>124.06000</td>\n",
       "    </tr>\n",
       "    <tr>\n",
       "      <th>25%</th>\n",
       "      <td>170.335000</td>\n",
       "      <td>168.025000</td>\n",
       "      <td>188.232500</td>\n",
       "      <td>154.05000</td>\n",
       "    </tr>\n",
       "    <tr>\n",
       "      <th>50%</th>\n",
       "      <td>178.530000</td>\n",
       "      <td>178.870000</td>\n",
       "      <td>199.805000</td>\n",
       "      <td>164.42500</td>\n",
       "    </tr>\n",
       "    <tr>\n",
       "      <th>75%</th>\n",
       "      <td>186.535000</td>\n",
       "      <td>189.112500</td>\n",
       "      <td>211.332500</td>\n",
       "      <td>172.88250</td>\n",
       "    </tr>\n",
       "    <tr>\n",
       "      <th>max</th>\n",
       "      <td>216.390000</td>\n",
       "      <td>217.860000</td>\n",
       "      <td>238.700000</td>\n",
       "      <td>205.18000</td>\n",
       "    </tr>\n",
       "  </tbody>\n",
       "</table>\n",
       "</div>"
      ],
      "text/plain": [
       "       Laboratory 1  Laboratory 2  Laboratory 3  Laboratory 4\n",
       "count    120.000000    120.000000    120.000000     120.00000\n",
       "mean     178.361583    178.902917    199.913250     163.68275\n",
       "std       13.173594     14.957114     16.539033      15.08508\n",
       "min      138.300000    140.550000    159.690000     124.06000\n",
       "25%      170.335000    168.025000    188.232500     154.05000\n",
       "50%      178.530000    178.870000    199.805000     164.42500\n",
       "75%      186.535000    189.112500    211.332500     172.88250\n",
       "max      216.390000    217.860000    238.700000     205.18000"
      ]
     },
     "execution_count": 22,
     "metadata": {},
     "output_type": "execute_result"
    }
   ],
   "source": [
    "labtat.describe()"
   ]
  },
  {
   "cell_type": "markdown",
   "id": "0081862a",
   "metadata": {},
   "source": [
    "## Plotting the data"
   ]
  },
  {
   "cell_type": "code",
   "execution_count": 23,
   "id": "b87f0832",
   "metadata": {},
   "outputs": [
    {
     "data": {
      "image/png": "[encoded data removed]",
      "text/plain": [
       "<Figure size 1152x648 with 4 Axes>"
      ]
     },
     "metadata": {
      "needs_background": "light"
     },
     "output_type": "display_data"
    }
   ],
   "source": [
    "plt.subplots(figsize = (16,9))\n",
    "plt.subplot(221)\n",
    "plt.boxplot(labtat['Laboratory 1'])\n",
    "plt.title('Laboratory 1')\n",
    "plt.subplot(222)\n",
    "plt.boxplot(labtat['Laboratory 2'])\n",
    "plt.title('Laboratory 2')\n",
    "plt.subplot(223)\n",
    "plt.boxplot(labtat['Laboratory 3'])\n",
    "plt.title('Laboratory 3')\n",
    "plt.subplot(224)\n",
    "plt.boxplot(labtat['Laboratory 4'])\n",
    "plt.title('Laboratory 4')\n",
    "plt.show()"
   ]
  },
  {
   "cell_type": "code",
   "execution_count": 24,
   "id": "d9ef4737",
   "metadata": {},
   "outputs": [
    {
     "data": {
      "image/png": "[encoded data removed]",
      "text/plain": [
       "<Figure size 648x432 with 4 Axes>"
      ]
     },
     "metadata": {
      "needs_background": "light"
     },
     "output_type": "display_data"
    }
   ],
   "source": [
    "plt.subplots(figsize = (9,6))\n",
    "plt.subplot(221)\n",
    "plt.hist(labtat['Laboratory 1'])\n",
    "plt.title('Laboratory 1')\n",
    "plt.subplot(222)\n",
    "plt.hist(labtat['Laboratory 2'])\n",
    "plt.title('Laboratory 2')\n",
    "plt.subplot(223)\n",
    "plt.hist(labtat['Laboratory 3'])\n",
    "plt.title('Laboratory 3')\n",
    "plt.subplot(224)\n",
    "plt.hist(labtat['Laboratory 4'])\n",
    "plt.title('Laboratory 4')\n",
    "plt.show()"
   ]
  },
  {
   "cell_type": "code",
   "execution_count": 25,
   "id": "91c69a03",
   "metadata": {},
   "outputs": [
    {
     "data": {
      "text/plain": [
       "<matplotlib.legend.Legend at 0x228f3d6d7f0>"
      ]
     },
     "execution_count": 25,
     "metadata": {},
     "output_type": "execute_result"
    },
    {
     "data": {
      "image/png": "[encoded data removed]",
      "text/plain": [
       "<Figure size 576x432 with 1 Axes>"
      ]
     },
     "metadata": {
      "needs_background": "light"
     },
     "output_type": "display_data"
    }
   ],
   "source": [
    "plt.figure(figsize = (8,6))\n",
    "labels = ['Lab 1', 'Lab 2','Lab 3', 'Lab 4']\n",
    "sns.distplot(labtat['Laboratory 1'], kde = True)\n",
    "sns.distplot(labtat['Laboratory 2'],hist = True)\n",
    "sns.distplot(labtat['Laboratory 3'],hist = True)\n",
    "sns.distplot(labtat['Laboratory 4'],hist = True)\n",
    "plt.legend(labels)"
   ]
  },
  {
   "cell_type": "markdown",
   "id": "cbe36806",
   "metadata": {},
   "source": [
    "# Step 4\n",
    "### Compare Evidences with Hypothesis using t-statictic"
   ]
  },
  {
   "cell_type": "code",
   "execution_count": 26,
   "id": "b8a9a092",
   "metadata": {},
   "outputs": [
    {
     "name": "stdout",
     "output_type": "stream",
     "text": [
      "p_value = 2.1156708949992414e-57\n"
     ]
    }
   ],
   "source": [
    "test_statistic , p_value = stats.f_oneway(labtat.iloc[:,0],labtat.iloc[:,1],labtat.iloc[:,2],labtat.iloc[:,3])\n",
    "print('p_value =',p_value)"
   ]
  },
  {
   "cell_type": "code",
   "execution_count": 27,
   "id": "d7c59abf",
   "metadata": {},
   "outputs": [
    {
     "name": "stdout",
     "output_type": "stream",
     "text": [
      "Significnace=0.050, p=0.000\n",
      "We reject Null Hypothesis there is a significance difference between TAT of reports of the laboratories\n"
     ]
    }
   ],
   "source": [
    "alpha = 0.05\n",
    "print('Significnace=%.3f, p=%.3f' % (alpha, p_value))\n",
    "if p_value <= alpha:\n",
    "    print('We reject Null Hypothesis there is a significance difference between TAT of reports of the laboratories')\n",
    "else:\n",
    "    print('We fail to reject Null hypothesis')"
   ]
  },
  {
   "cell_type": "markdown",
   "id": "ae742127",
   "metadata": {},
   "source": [
    "## Hence, We fail to reject Null Hypothesis because of lack evidence, there is no significant difference between the samples"
   ]
  },
  {
   "cell_type": "markdown",
   "id": "085c42a1",
   "metadata": {},
   "source": [
    "# <span style=\"color:Red\"> Answer 3</span>"
   ]
  },
  {
   "cell_type": "markdown",
   "id": "a8e64aed",
   "metadata": {},
   "source": [
    "## We are going to conduct a Test of Independence using Chi-Square test with Contingency table\n",
    "## We need to check whether the proportion of any of these samples are different or the same?"
   ]
  },
  {
   "cell_type": "markdown",
   "id": "751d333c",
   "metadata": {},
   "source": [
    "# Step 1\n",
    "### Make two Hypothesis one contradicting to other\n",
    "### Null Hypothesis is want we want to prove\n",
    "- Null Hypothesis: There is no association or dependency between the gender based buyer rations across regions\n",
    "- Alternative Hypthosis: There is a significant association or dependency between the gender based buyer rations across regions"
   ]
  },
  {
   "cell_type": "markdown",
   "id": "a0b17856",
   "metadata": {},
   "source": [
    "# Step 2\n",
    "### Decide a cut-off value\n",
    "- Significance 5%\n",
    "- alpha = 0.05\n",
    "\n",
    "### As it is a one-tailed test\n",
    "- alpha = 1-0.95 = 0.05"
   ]
  },
  {
   "cell_type": "markdown",
   "id": "521ef45d",
   "metadata": {},
   "source": [
    "# Step 3\n",
    "## Collect evidence\n",
    "## Importing Files"
   ]
  },
  {
   "cell_type": "code",
   "execution_count": 33,
   "id": "19a0a6c9",
   "metadata": {},
   "outputs": [
    {
     "data": {
      "text/html": [
       "<div>\n",
       "<style scoped>\n",
       "    .dataframe tbody tr th:only-of-type {\n",
       "        vertical-align: middle;\n",
       "    }\n",
       "\n",
       "    .dataframe tbody tr th {\n",
       "        vertical-align: top;\n",
       "    }\n",
       "\n",
       "    .dataframe thead th {\n",
       "        text-align: right;\n",
       "    }\n",
       "</style>\n",
       "<table border=\"1\" class=\"dataframe\">\n",
       "  <thead>\n",
       "    <tr style=\"text-align: right;\">\n",
       "      <th></th>\n",
       "      <th>Observed Values</th>\n",
       "      <th>East</th>\n",
       "      <th>West</th>\n",
       "      <th>North</th>\n",
       "      <th>South</th>\n",
       "    </tr>\n",
       "  </thead>\n",
       "  <tbody>\n",
       "    <tr>\n",
       "      <th>0</th>\n",
       "      <td>Males</td>\n",
       "      <td>50</td>\n",
       "      <td>142</td>\n",
       "      <td>131</td>\n",
       "      <td>70</td>\n",
       "    </tr>\n",
       "    <tr>\n",
       "      <th>1</th>\n",
       "      <td>Females</td>\n",
       "      <td>435</td>\n",
       "      <td>1523</td>\n",
       "      <td>1356</td>\n",
       "      <td>750</td>\n",
       "    </tr>\n",
       "  </tbody>\n",
       "</table>\n",
       "</div>"
      ],
      "text/plain": [
       "  Observed Values  East  West  North  South\n",
       "0           Males    50   142    131     70\n",
       "1         Females   435  1523   1356    750"
      ]
     },
     "execution_count": 33,
     "metadata": {},
     "output_type": "execute_result"
    }
   ],
   "source": [
    "buyer = pd.read_csv(\"BuyerRatio.csv\")\n",
    "buyer.head()"
   ]
  },
  {
   "cell_type": "code",
   "execution_count": 35,
   "id": "28f13fd8",
   "metadata": {},
   "outputs": [],
   "source": [
    "table=[[50,142,131,70],[435,1523,1356,750]]"
   ]
  },
  {
   "cell_type": "markdown",
   "id": "d02ddb14",
   "metadata": {},
   "source": [
    "### Applying Chi-Square contingency table to convert observed value into expected value"
   ]
  },
  {
   "cell_type": "code",
   "execution_count": 37,
   "id": "10c38a3a",
   "metadata": {},
   "outputs": [
    {
     "data": {
      "text/plain": [
       "(1.595945538661058,\n",
       " 0.6603094907091882,\n",
       " 3,\n",
       " array([[  42.76531299,  146.81287862,  131.11756787,   72.30424052],\n",
       "        [ 442.23468701, 1518.18712138, 1355.88243213,  747.69575948]]))"
      ]
     },
     "execution_count": 37,
     "metadata": {},
     "output_type": "execute_result"
    }
   ],
   "source": [
    "stats.chi2_contingency(table) "
   ]
  },
  {
   "cell_type": "code",
   "execution_count": 51,
   "id": "ffe5dff0",
   "metadata": {},
   "outputs": [],
   "source": [
    "observed=np.array([50,142,131,70,435,1523,1356,750])\n",
    "expected=np.array([42.76531299,146.81287862,131.11756787,72.30424052,442.23468701,1518.18712138,1355.88243213,747.69575948])"
   ]
  },
  {
   "cell_type": "code",
   "execution_count": 52,
   "id": "5126acc9",
   "metadata": {},
   "outputs": [
    {
     "name": "stdout",
     "output_type": "stream",
     "text": [
      "[  50  142  131   70  435 1523 1356  750]\n",
      "[  42.76531299  146.81287862  131.11756787   72.30424052  442.23468701\n",
      " 1518.18712138 1355.88243213  747.69575948]\n"
     ]
    }
   ],
   "source": [
    "print(observed)\n",
    "print(expected)"
   ]
  },
  {
   "cell_type": "markdown",
   "id": "a8d52d16",
   "metadata": {},
   "source": [
    "# Step 4\n",
    "### Comparing Evidence with Hypothesis"
   ]
  },
  {
   "cell_type": "code",
   "execution_count": 53,
   "id": "2cef5059",
   "metadata": {},
   "outputs": [
    {
     "name": "stdout",
     "output_type": "stream",
     "text": [
      "Statistics =  1.5959455390914483 \n",
      " P_Value =  0.6603094906115259\n"
     ]
    }
   ],
   "source": [
    "statistics, p_value = stats.chisquare(observed, expected, ddof = 4)\n",
    "print(\"Statistics = \",statistics,\"\\n\",'P_Value = ', p_value)"
   ]
  },
  {
   "cell_type": "code",
   "execution_count": 54,
   "id": "f71c4421",
   "metadata": {},
   "outputs": [
    {
     "name": "stdout",
     "output_type": "stream",
     "text": [
      "Significnace=0.050, p=0.660\n",
      "We fail to reject Null hypothesis\n"
     ]
    }
   ],
   "source": [
    "alpha = 0.05\n",
    "print('Significnace=%.3f, p=%.3f' % (alpha, p_value))\n",
    "if p_value <= alpha:\n",
    "    print('We reject Null Hypothesis there is a significance difference between TAT of reports of the laboratories')\n",
    "else:\n",
    "    print('We fail to reject Null hypothesis')"
   ]
  },
  {
   "cell_type": "markdown",
   "id": "44a1a389",
   "metadata": {},
   "source": [
    "# We fail to reject Null Hypothesis because of lack evidence. Therefore, there is no association or dependency between male-female buyers rations and are similar across regions. Hence, Independent samples"
   ]
  },
  {
   "cell_type": "markdown",
   "id": "5e999f3b",
   "metadata": {},
   "source": [
    "# <span style=\"color:Red\"> Anwer 4</span>"
   ]
  },
  {
   "cell_type": "markdown",
   "id": "434c3199",
   "metadata": {},
   "source": [
    "## We are going to conduct a Test of Independence using Chi-Square test with Contingency table"
   ]
  },
  {
   "cell_type": "markdown",
   "id": "b02baad4",
   "metadata": {},
   "source": [
    "### We need to check whether the mean of any of these samples are different or the same?"
   ]
  },
  {
   "cell_type": "markdown",
   "id": "874288e4",
   "metadata": {},
   "source": [
    "# Step 1\n",
    "### Make two Hypothesis one contradicting to other\n",
    "### Null Hypothesis is want we want to prove\n",
    "\n",
    "- Null Hypothesis u1=u2=u3=u4\n",
    "- Alternet Hypothesis: Atleast One of them is different"
   ]
  },
  {
   "cell_type": "markdown",
   "id": "8453b5e5",
   "metadata": {},
   "source": [
    "# Step 2\n",
    "### Decide a cut-off value\n",
    "- Significance 5%\n",
    "- alpha = 0.05"
   ]
  },
  {
   "cell_type": "markdown",
   "id": "d7f07a2d",
   "metadata": {},
   "source": [
    "# Step 3\n",
    "### Collect evidence\n",
    "### Importing Files"
   ]
  },
  {
   "cell_type": "code",
   "execution_count": 61,
   "id": "388ed830",
   "metadata": {},
   "outputs": [
    {
     "data": {
      "text/html": [
       "<div>\n",
       "<style scoped>\n",
       "    .dataframe tbody tr th:only-of-type {\n",
       "        vertical-align: middle;\n",
       "    }\n",
       "\n",
       "    .dataframe tbody tr th {\n",
       "        vertical-align: top;\n",
       "    }\n",
       "\n",
       "    .dataframe thead th {\n",
       "        text-align: right;\n",
       "    }\n",
       "</style>\n",
       "<table border=\"1\" class=\"dataframe\">\n",
       "  <thead>\n",
       "    <tr style=\"text-align: right;\">\n",
       "      <th></th>\n",
       "      <th>Phillippines</th>\n",
       "      <th>Indonesia</th>\n",
       "      <th>Malta</th>\n",
       "      <th>India</th>\n",
       "    </tr>\n",
       "  </thead>\n",
       "  <tbody>\n",
       "    <tr>\n",
       "      <th>0</th>\n",
       "      <td>Error Free</td>\n",
       "      <td>Error Free</td>\n",
       "      <td>Defective</td>\n",
       "      <td>Error Free</td>\n",
       "    </tr>\n",
       "    <tr>\n",
       "      <th>1</th>\n",
       "      <td>Error Free</td>\n",
       "      <td>Error Free</td>\n",
       "      <td>Error Free</td>\n",
       "      <td>Defective</td>\n",
       "    </tr>\n",
       "    <tr>\n",
       "      <th>2</th>\n",
       "      <td>Error Free</td>\n",
       "      <td>Defective</td>\n",
       "      <td>Defective</td>\n",
       "      <td>Error Free</td>\n",
       "    </tr>\n",
       "    <tr>\n",
       "      <th>3</th>\n",
       "      <td>Error Free</td>\n",
       "      <td>Error Free</td>\n",
       "      <td>Error Free</td>\n",
       "      <td>Error Free</td>\n",
       "    </tr>\n",
       "    <tr>\n",
       "      <th>4</th>\n",
       "      <td>Error Free</td>\n",
       "      <td>Error Free</td>\n",
       "      <td>Defective</td>\n",
       "      <td>Error Free</td>\n",
       "    </tr>\n",
       "  </tbody>\n",
       "</table>\n",
       "</div>"
      ],
      "text/plain": [
       "  Phillippines   Indonesia       Malta       India\n",
       "0   Error Free  Error Free   Defective  Error Free\n",
       "1   Error Free  Error Free  Error Free   Defective\n",
       "2   Error Free   Defective   Defective  Error Free\n",
       "3   Error Free  Error Free  Error Free  Error Free\n",
       "4   Error Free  Error Free   Defective  Error Free"
      ]
     },
     "execution_count": 61,
     "metadata": {},
     "output_type": "execute_result"
    }
   ],
   "source": [
    "centers = pd.read_csv(\"Costomer+OrderForm.csv\")\n",
    "centers.head()"
   ]
  },
  {
   "cell_type": "code",
   "execution_count": 62,
   "id": "ea9342b8",
   "metadata": {},
   "outputs": [
    {
     "data": {
      "text/html": [
       "<div>\n",
       "<style scoped>\n",
       "    .dataframe tbody tr th:only-of-type {\n",
       "        vertical-align: middle;\n",
       "    }\n",
       "\n",
       "    .dataframe tbody tr th {\n",
       "        vertical-align: top;\n",
       "    }\n",
       "\n",
       "    .dataframe thead th {\n",
       "        text-align: right;\n",
       "    }\n",
       "</style>\n",
       "<table border=\"1\" class=\"dataframe\">\n",
       "  <thead>\n",
       "    <tr style=\"text-align: right;\">\n",
       "      <th></th>\n",
       "      <th>Phillippines</th>\n",
       "      <th>Indonesia</th>\n",
       "      <th>Malta</th>\n",
       "      <th>India</th>\n",
       "    </tr>\n",
       "  </thead>\n",
       "  <tbody>\n",
       "    <tr>\n",
       "      <th>count</th>\n",
       "      <td>300</td>\n",
       "      <td>300</td>\n",
       "      <td>300</td>\n",
       "      <td>300</td>\n",
       "    </tr>\n",
       "    <tr>\n",
       "      <th>unique</th>\n",
       "      <td>2</td>\n",
       "      <td>2</td>\n",
       "      <td>2</td>\n",
       "      <td>2</td>\n",
       "    </tr>\n",
       "    <tr>\n",
       "      <th>top</th>\n",
       "      <td>Error Free</td>\n",
       "      <td>Error Free</td>\n",
       "      <td>Error Free</td>\n",
       "      <td>Error Free</td>\n",
       "    </tr>\n",
       "    <tr>\n",
       "      <th>freq</th>\n",
       "      <td>271</td>\n",
       "      <td>267</td>\n",
       "      <td>269</td>\n",
       "      <td>280</td>\n",
       "    </tr>\n",
       "  </tbody>\n",
       "</table>\n",
       "</div>"
      ],
      "text/plain": [
       "       Phillippines   Indonesia       Malta       India\n",
       "count           300         300         300         300\n",
       "unique            2           2           2           2\n",
       "top      Error Free  Error Free  Error Free  Error Free\n",
       "freq            271         267         269         280"
      ]
     },
     "execution_count": 62,
     "metadata": {},
     "output_type": "execute_result"
    }
   ],
   "source": [
    "centers.describe()"
   ]
  },
  {
   "cell_type": "markdown",
   "id": "85ebaf5b",
   "metadata": {},
   "source": [
    "## Checking value counts in data"
   ]
  },
  {
   "cell_type": "code",
   "execution_count": 65,
   "id": "4ccdda6a",
   "metadata": {},
   "outputs": [
    {
     "name": "stdout",
     "output_type": "stream",
     "text": [
      "Error Free    271\n",
      "Defective      29\n",
      "Name: Phillippines, dtype: int64 \n",
      " Error Free    267\n",
      "Defective      33\n",
      "Name: Indonesia, dtype: int64 \n",
      " Error Free    269\n",
      "Defective      31\n",
      "Name: Malta, dtype: int64 \n",
      " Error Free    280\n",
      "Defective      20\n",
      "Name: India, dtype: int64\n"
     ]
    }
   ],
   "source": [
    "print(centers['Phillippines'].value_counts(),'\\n',centers['Indonesia'].value_counts(),'\\n',centers['Malta'].value_counts(),'\\n',centers['India'].value_counts())"
   ]
  },
  {
   "cell_type": "markdown",
   "id": "4389ca8c",
   "metadata": {},
   "source": [
    "## Creating Contingency table"
   ]
  },
  {
   "cell_type": "code",
   "execution_count": 67,
   "id": "4846e81f",
   "metadata": {},
   "outputs": [
    {
     "name": "stdout",
     "output_type": "stream",
     "text": [
      "[[271, 267, 269, 280], [29, 33, 31, 20]]\n"
     ]
    }
   ],
   "source": [
    "contingency_table = [[271,267,269,280],\n",
    "                    [29,33,31,20]]\n",
    "print(contingency_table)"
   ]
  },
  {
   "cell_type": "code",
   "execution_count": 68,
   "id": "900b64de",
   "metadata": {},
   "outputs": [
    {
     "data": {
      "text/plain": [
       "(3.858960685820355,\n",
       " 0.2771020991233135,\n",
       " 3,\n",
       " array([[271.75, 271.75, 271.75, 271.75],\n",
       "        [ 28.25,  28.25,  28.25,  28.25]]))"
      ]
     },
     "execution_count": 68,
     "metadata": {},
     "output_type": "execute_result"
    }
   ],
   "source": [
    "stats.chi2_contingency(contingency_table)"
   ]
  },
  {
   "cell_type": "markdown",
   "id": "3961d601",
   "metadata": {},
   "source": [
    "### Defining Expected values and observed values"
   ]
  },
  {
   "cell_type": "code",
   "execution_count": 70,
   "id": "ca17306b",
   "metadata": {},
   "outputs": [],
   "source": [
    "observed = np.array([271, 267, 269, 280, 29, 33, 31, 20])\n",
    "expected = np.array([271.75, 271.75, 271.75, 271.75, 28.25, 28.25, 28.25, 28.25])"
   ]
  },
  {
   "cell_type": "markdown",
   "id": "3b4ae71e",
   "metadata": {},
   "source": [
    "# Step 4\n",
    "### Compare Evidences with Hypothesis using t-statictic"
   ]
  },
  {
   "cell_type": "code",
   "execution_count": 72,
   "id": "7e6e2ecf",
   "metadata": {},
   "outputs": [
    {
     "name": "stdout",
     "output_type": "stream",
     "text": [
      "Test Statistic =  3.858960685820355 \n",
      " p_value = 0.4254298144535761\n"
     ]
    }
   ],
   "source": [
    "test_statistic , p_value = stats.chisquare(observed, expected, ddof = 3)\n",
    "print(\"Test Statistic = \",test_statistic,'\\n', 'p_value =',p_value)"
   ]
  },
  {
   "cell_type": "code",
   "execution_count": 73,
   "id": "ef3729ba",
   "metadata": {},
   "outputs": [
    {
     "name": "stdout",
     "output_type": "stream",
     "text": [
      "Significnace=0.050, p=0.425\n",
      "We fail to reject Null hypothesis\n"
     ]
    }
   ],
   "source": [
    "alpha = 0.05\n",
    "print('Significnace=%.3f, p=%.3f' % (alpha, p_value))\n",
    "if p_value <= alpha:\n",
    "    print('We reject Null Hypothesis there is a significance difference between TAT of reports of the laboratories')\n",
    "else:\n",
    "    print('We fail to reject Null hypothesis')"
   ]
  },
  {
   "cell_type": "markdown",
   "id": "3053b1bc",
   "metadata": {},
   "source": [
    "# We fail to reject Null Hypothesis because of lack of evidence."
   ]
  }
 ],
 "metadata": {
  "kernelspec": {
   "display_name": "Python 3 (ipykernel)",
   "language": "python",
   "name": "python3"
  },
  "language_info": {
   "codemirror_mode": {
    "name": "ipython",
    "version": 3
   },
   "file_extension": ".py",
   "mimetype": "text/x-python",
   "name": "python",
   "nbconvert_exporter": "python",
   "pygments_lexer": "ipython3",
   "version": "3.9.12"
  }
 },
 "nbformat": 4,
 "nbformat_minor": 5
}
